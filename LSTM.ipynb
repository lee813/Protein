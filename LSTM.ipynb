{
  "nbformat": 4,
  "nbformat_minor": 0,
  "metadata": {
    "colab": {
      "name": "LSTM.ipynb",
      "version": "0.3.2",
      "provenance": [],
      "collapsed_sections": [],
      "include_colab_link": true
    },
    "kernelspec": {
      "name": "python3",
      "display_name": "Python 3"
    }
  },
  "cells": [
    {
      "cell_type": "markdown",
      "metadata": {
        "id": "view-in-github",
        "colab_type": "text"
      },
      "source": [
        "<a href=\"https://colab.research.google.com/github/lee813/Protein/blob/master/LSTM.ipynb\" target=\"_parent\"><img src=\"https://colab.research.google.com/assets/colab-badge.svg\" alt=\"Open In Colab\"/></a>"
      ]
    },
    {
      "metadata": {
        "id": "yARZniXm6haA",
        "colab_type": "code",
        "outputId": "19666867-3a93-4807-962c-0ddd52a2bdfc",
        "colab": {
          "base_uri": "https://localhost:8080/",
          "height": 35
        }
      },
      "cell_type": "code",
      "source": [
        "import keras\n",
        "from keras import backend as K\n",
        "from keras.models import Sequential, Model\n",
        "from keras.layers import Input, LSTM, RepeatVector\n",
        "from keras.layers.core import Flatten, Dense, Dropout, Lambda\n",
        "from keras.optimizers import SGD, RMSprop, Adam\n",
        "from keras import objectives"
      ],
      "execution_count": 0,
      "outputs": [
        {
          "output_type": "stream",
          "text": [
            "Using TensorFlow backend.\n"
          ],
          "name": "stderr"
        }
      ]
    },
    {
      "metadata": {
        "id": "ANttT6MS7jQp",
        "colab_type": "code",
        "colab": {}
      },
      "cell_type": "code",
      "source": [
        "def create_lstm_vae(input_dim, \n",
        "    timesteps, \n",
        "    batch_size, \n",
        "    intermediate_dim, \n",
        "    latent_dim,\n",
        "    epsilon_std=1.):\n",
        "\n",
        "    \"\"\"\n",
        "    Creates an LSTM Variational Autoencoder (VAE). Returns VAE, Encoder, Generator. \n",
        "    # Arguments\n",
        "        input_dim: int.\n",
        "        timesteps: int, input timestep dimension.\n",
        "        batch_size: int.\n",
        "        intermediate_dim: int, output shape of LSTM. \n",
        "        latent_dim: int, latent z-layer shape. \n",
        "        epsilon_std: float, z-layer sigma.\n",
        "    # References\n",
        "        - [Building Autoencoders in Keras](https://blog.keras.io/building-autoencoders-in-keras.html)\n",
        "        - [Generating sentences from a continuous space](https://arxiv.org/abs/1511.06349)\n",
        "    \"\"\"\n",
        "    x = Input(shape=(timesteps, input_dim,))\n",
        "\n",
        "    # LSTM encoding\n",
        "    h = LSTM(intermediate_dim)(x)\n",
        "\n",
        "    # VAE Z layer\n",
        "    z_mean = Dense(latent_dim)(h)\n",
        "    z_log_sigma = Dense(latent_dim)(h)\n",
        "    \n",
        "    def sampling(args):\n",
        "        z_mean, z_log_sigma = args\n",
        "        epsilon = K.random_normal(shape=(batch_size, latent_dim),\n",
        "                                  mean=0., stddev=epsilon_std)\n",
        "        return z_mean + K.exp(z_log_sigma) * epsilon\n",
        "\n",
        "    # note that \"output_shape\" isn't necessary with the TensorFlow backend\n",
        "    # so you could write `Lambda(sampling)([z_mean, z_log_sigma])`\n",
        "    z = Lambda(sampling, output_shape=(latent_dim,))([z_mean, z_log_sigma])\n",
        "    \n",
        "    # decoded LSTM layer\n",
        "    decoder_h = LSTM(intermediate_dim, return_sequences=True)\n",
        "    decoder_mean = LSTM(input_dim, return_sequences=True)\n",
        "\n",
        "    h_decoded = RepeatVector(timesteps)(z)\n",
        "    h_decoded = decoder_h(h_decoded)\n",
        "\n",
        "    # decoded layer\n",
        "    x_decoded_mean = decoder_mean(h_decoded)\n",
        "    \n",
        "    # end-to-end autoencoder\n",
        "    vae = Model(x, x_decoded_mean)\n",
        "\n",
        "    # encoder, from inputs to latent space\n",
        "    encoder = Model(x, z_mean)\n",
        "\n",
        "    # generator, from latent space to reconstructed inputs\n",
        "    decoder_input = Input(shape=(latent_dim,))\n",
        "\n",
        "    _h_decoded = RepeatVector(timesteps)(decoder_input)\n",
        "    _h_decoded = decoder_h(_h_decoded)\n",
        "\n",
        "    _x_decoded_mean = decoder_mean(_h_decoded)\n",
        "    generator = Model(decoder_input, _x_decoded_mean)\n",
        "    \n",
        "    def vae_loss(x, x_decoded_mean):\n",
        "        xent_loss = objectives.mse(x, x_decoded_mean)\n",
        "        kl_loss = - 0.5 * K.mean(1 + z_log_sigma - K.square(z_mean) - K.exp(z_log_sigma))\n",
        "        loss = xent_loss + kl_loss\n",
        "        return loss\n",
        "\n",
        "    vae.compile(optimizer='rmsprop', loss=vae_loss)\n",
        "    \n",
        "    return vae, encoder, generator"
      ],
      "execution_count": 0,
      "outputs": []
    },
    {
      "metadata": {
        "id": "En5Lkrar75gh",
        "colab_type": "code",
        "colab": {}
      },
      "cell_type": "code",
      "source": [
        "import numpy as np\n",
        "import matplotlib.pyplot as plt\n",
        "\n",
        "\n",
        "def get_data():\n",
        "    # read data from file\n",
        "    # data = np.fromfile('sample_data.dat').reshape(419,13)\n",
        "    data = np.load('CB513.npy')[1:50, 1:2000]\n",
        "    \n",
        "    timesteps = 3\n",
        "    dataX = []\n",
        "    for i in range(len(data) - timesteps - 1):\n",
        "        x = data[i:(i+timesteps), :]\n",
        "        dataX.append(x)\n",
        "    return np.array(dataX)\n",
        "    #return data"
      ],
      "execution_count": 0,
      "outputs": []
    },
    {
      "metadata": {
        "id": "8jSLsrrazO-E",
        "colab_type": "code",
        "outputId": "7ce18634-8aba-4c63-d8fb-832534ecc761",
        "colab": {
          "base_uri": "https://localhost:8080/",
          "height": 2351
        }
      },
      "cell_type": "code",
      "source": [
        "x = get_data()\n",
        "input_dim = x.shape[-1] # 13\n",
        "timesteps = x.shape[1] # 3\n",
        "batch_size = 1\n",
        "\n",
        "vae, enc, gen = create_lstm_vae(input_dim, \n",
        "    timesteps=timesteps, \n",
        "    batch_size=batch_size, \n",
        "    intermediate_dim=32,\n",
        "    latent_dim=100,\n",
        "    epsilon_std=1.)\n",
        "\n",
        "vae.fit(x, x, epochs=50)\n",
        "\n",
        "preds = vae.predict(x, batch_size=batch_size)\n",
        "\n",
        "# pick a column to plot.\n",
        "print(\"[plotting...]\")\n",
        "print(\"x: %s, preds: %s\" % (x.shape, preds.shape))\n",
        "plt.plot(x[:,0,3], label='data')\n",
        "plt.plot(preds[:,0,3], label='predict')\n",
        "plt.legend()\n",
        "plt.show()"
      ],
      "execution_count": 0,
      "outputs": [
        {
          "output_type": "stream",
          "text": [
            "WARNING:tensorflow:From /usr/local/lib/python3.6/dist-packages/tensorflow/python/framework/op_def_library.py:263: colocate_with (from tensorflow.python.framework.ops) is deprecated and will be removed in a future version.\n",
            "Instructions for updating:\n",
            "Colocations handled automatically by placer.\n",
            "WARNING:tensorflow:From /usr/local/lib/python3.6/dist-packages/tensorflow/python/ops/math_ops.py:3066: to_int32 (from tensorflow.python.ops.math_ops) is deprecated and will be removed in a future version.\n",
            "Instructions for updating:\n",
            "Use tf.cast instead.\n",
            "Epoch 1/50\n",
            "45/45 [==============================] - 7s 153ms/step - loss: 0.1049\n",
            "Epoch 2/50\n",
            "45/45 [==============================] - 2s 40ms/step - loss: 0.0976\n",
            "Epoch 3/50\n",
            "45/45 [==============================] - 2s 39ms/step - loss: 0.0957\n",
            "Epoch 4/50\n",
            "45/45 [==============================] - 2s 40ms/step - loss: 0.0963\n",
            "Epoch 5/50\n",
            "45/45 [==============================] - 2s 39ms/step - loss: 0.0923\n",
            "Epoch 6/50\n",
            "45/45 [==============================] - 2s 41ms/step - loss: 0.0921\n",
            "Epoch 7/50\n",
            "45/45 [==============================] - 2s 41ms/step - loss: 0.0875\n",
            "Epoch 8/50\n",
            "45/45 [==============================] - 2s 40ms/step - loss: 0.0859\n",
            "Epoch 9/50\n",
            "45/45 [==============================] - 2s 42ms/step - loss: 0.0867\n",
            "Epoch 10/50\n",
            "45/45 [==============================] - 2s 43ms/step - loss: 0.0835\n",
            "Epoch 11/50\n",
            "45/45 [==============================] - 2s 39ms/step - loss: 0.0848\n",
            "Epoch 12/50\n",
            "45/45 [==============================] - 2s 41ms/step - loss: 0.0830\n",
            "Epoch 13/50\n",
            "45/45 [==============================] - 2s 41ms/step - loss: 0.0825\n",
            "Epoch 14/50\n",
            "45/45 [==============================] - 2s 43ms/step - loss: 0.0816\n",
            "Epoch 15/50\n",
            "45/45 [==============================] - 2s 41ms/step - loss: 0.0807\n",
            "Epoch 16/50\n",
            "45/45 [==============================] - 2s 42ms/step - loss: 0.0814\n",
            "Epoch 17/50\n",
            "45/45 [==============================] - 2s 43ms/step - loss: 0.0808\n",
            "Epoch 18/50\n",
            "45/45 [==============================] - 2s 42ms/step - loss: 0.0803\n",
            "Epoch 19/50\n",
            "45/45 [==============================] - 2s 43ms/step - loss: 0.0794\n",
            "Epoch 20/50\n",
            "45/45 [==============================] - 2s 42ms/step - loss: 0.0800\n",
            "Epoch 21/50\n",
            "45/45 [==============================] - 2s 41ms/step - loss: 0.0784\n",
            "Epoch 22/50\n",
            "45/45 [==============================] - 2s 42ms/step - loss: 0.0796\n",
            "Epoch 23/50\n",
            "45/45 [==============================] - 2s 41ms/step - loss: 0.0796\n",
            "Epoch 24/50\n",
            "45/45 [==============================] - 2s 39ms/step - loss: 0.0796\n",
            "Epoch 25/50\n",
            "45/45 [==============================] - 2s 38ms/step - loss: 0.0788\n",
            "Epoch 26/50\n",
            "45/45 [==============================] - 2s 39ms/step - loss: 0.0771\n",
            "Epoch 27/50\n",
            "45/45 [==============================] - 2s 39ms/step - loss: 0.0773\n",
            "Epoch 28/50\n",
            "45/45 [==============================] - 2s 41ms/step - loss: 0.0769\n",
            "Epoch 29/50\n",
            "45/45 [==============================] - 2s 40ms/step - loss: 0.0776\n",
            "Epoch 30/50\n",
            "45/45 [==============================] - 2s 39ms/step - loss: 0.0769\n",
            "Epoch 31/50\n",
            "45/45 [==============================] - 2s 38ms/step - loss: 0.0766\n",
            "Epoch 32/50\n",
            "45/45 [==============================] - 2s 37ms/step - loss: 0.0758\n",
            "Epoch 33/50\n",
            "45/45 [==============================] - 2s 38ms/step - loss: 0.0757\n",
            "Epoch 34/50\n",
            "45/45 [==============================] - 2s 38ms/step - loss: 0.0756\n",
            "Epoch 35/50\n",
            "45/45 [==============================] - 2s 38ms/step - loss: 0.0756\n",
            "Epoch 36/50\n",
            "45/45 [==============================] - 2s 38ms/step - loss: 0.0766\n",
            "Epoch 37/50\n",
            "45/45 [==============================] - 2s 39ms/step - loss: 0.0753\n",
            "Epoch 38/50\n",
            "45/45 [==============================] - 2s 39ms/step - loss: 0.0750\n",
            "Epoch 39/50\n",
            "45/45 [==============================] - 2s 39ms/step - loss: 0.0752\n",
            "Epoch 40/50\n",
            "45/45 [==============================] - 2s 39ms/step - loss: 0.0751\n",
            "Epoch 41/50\n",
            "45/45 [==============================] - 2s 37ms/step - loss: 0.0751\n",
            "Epoch 42/50\n",
            "45/45 [==============================] - 2s 38ms/step - loss: 0.0752\n",
            "Epoch 43/50\n",
            "45/45 [==============================] - 2s 37ms/step - loss: 0.0752\n",
            "Epoch 44/50\n",
            "45/45 [==============================] - 2s 38ms/step - loss: 0.0746\n",
            "Epoch 45/50\n",
            "45/45 [==============================] - 2s 39ms/step - loss: 0.0747\n",
            "Epoch 46/50\n",
            "45/45 [==============================] - 2s 38ms/step - loss: 0.0744\n",
            "Epoch 47/50\n",
            "45/45 [==============================] - 2s 37ms/step - loss: 0.0749\n",
            "Epoch 48/50\n",
            "45/45 [==============================] - 2s 38ms/step - loss: 0.0745\n",
            "Epoch 49/50\n",
            "45/45 [==============================] - 2s 38ms/step - loss: 0.0743\n",
            "Epoch 50/50\n",
            "45/45 [==============================] - 2s 37ms/step - loss: 0.0746\n",
            "[plotting...]\n",
            "x: (45, 3, 1999), preds: (45, 3, 1999)\n"
          ],
          "name": "stdout"
        },
        {
          "output_type": "display_data",
          "data": {
            "image/png": "[encoded data removed]",
            "text/plain": [
              "<Figure size 576x396 with 1 Axes>"
            ]
          },
          "metadata": {
            "tags": []
          }
        }
      ]
    },
    {
      "metadata": {
        "id": "vxg13Cy6z6Uf",
        "colab_type": "code",
        "outputId": "23bb7a86-ac75-4fff-8572-57f06b2b0d83",
        "colab": {
          "base_uri": "https://localhost:8080/",
          "height": 182
        }
      },
      "cell_type": "code",
      "source": [
        "x[1,:]"
      ],
      "execution_count": 0,
      "outputs": [
        {
          "output_type": "execute_result",
          "data": {
            "text/plain": [
              "array([[0.64931299, 0.89654163, 0.27325002, 0.22932992, 0.87211755,\n",
              "        0.14258337, 0.28571429, 0.31818182, 0.96153846, 0.71568627,\n",
              "        0.3442029 , 0.41489362, 0.25925926],\n",
              "       [0.64931299, 0.89654163, 0.27325002, 0.22932992, 0.87211755,\n",
              "        0.14258337, 0.35714286, 0.36931818, 1.        , 0.83333333,\n",
              "        0.44927536, 0.50531915, 0.27777778],\n",
              "       [0.64931299, 0.89654163, 0.27325002, 0.22932992, 0.87211755,\n",
              "        0.14258337, 0.35714286, 0.47727273, 0.79230769, 0.92156863,\n",
              "        0.50724638, 0.64893617, 0.27777778]])"
            ]
          },
          "metadata": {
            "tags": []
          },
          "execution_count": 9
        }
      ]
    },
    {
      "metadata": {
        "id": "Ci8h5EXF2f4L",
        "colab_type": "code",
        "colab": {}
      },
      "cell_type": "code",
      "source": [
        "cb513 = np.load('CB513.npy')"
      ],
      "execution_count": 0,
      "outputs": []
    },
    {
      "metadata": {
        "id": "fscM49P-Fz0L",
        "colab_type": "code",
        "outputId": "a05ca49d-8799-4ba0-d741-1e39ea4d9f0d",
        "colab": {
          "base_uri": "https://localhost:8080/",
          "height": 35
        }
      },
      "cell_type": "code",
      "source": [
        "cb513.shape"
      ],
      "execution_count": 0,
      "outputs": [
        {
          "output_type": "execute_result",
          "data": {
            "text/plain": [
              "(514, 39900)"
            ]
          },
          "metadata": {
            "tags": []
          },
          "execution_count": 5
        }
      ]
    },
    {
      "metadata": {
        "id": "mwWUZW3fF3rr",
        "colab_type": "code",
        "outputId": "5c3d6f42-8d10-4a23-8908-e6c9fae62322",
        "colab": {
          "base_uri": "https://localhost:8080/",
          "height": 752
        }
      },
      "cell_type": "code",
      "source": [
        "cb513[3, 100:300]"
      ],
      "execution_count": 0,
      "outputs": [
        {
          "output_type": "execute_result",
          "data": {
            "text/plain": [
              "array([0.21416502, 0.04697615, 0.0710943 , 0.09029814, 0.99941306,\n",
              "       0.17653527, 0.08471057, 0.33181223, 0.22970105, 0.09449037,\n",
              "       0.01945508, 0.11920292, 0.04148712, 0.        , 1.        ,\n",
              "       0.        , 0.        , 0.        , 0.        , 0.        ,\n",
              "       0.        , 0.        , 0.        , 0.        , 0.        ,\n",
              "       0.        , 0.        , 0.        , 0.        , 0.        ,\n",
              "       0.        , 0.        , 0.        , 0.        , 0.        ,\n",
              "       0.        , 0.        , 0.        , 1.        , 0.        ,\n",
              "       0.        , 0.        , 0.        , 0.        , 0.        ,\n",
              "       0.        , 0.        , 0.        , 0.        , 0.96007467,\n",
              "       0.27888482, 0.1480472 , 0.22097389, 0.08706577, 0.86056613,\n",
              "       0.12564786, 0.31431989, 0.24973989, 0.17653527, 0.25350602,\n",
              "       0.22970105, 0.2042403 , 0.24048908, 0.14679034, 0.82635335,\n",
              "       0.4875026 , 0.65248946, 0.05315114, 0.5       , 0.11405238,\n",
              "       0.        , 0.        , 0.        , 0.        , 0.        ,\n",
              "       0.        , 1.        , 0.        , 0.        , 0.        ,\n",
              "       0.        , 0.        , 0.        , 0.        , 0.        ,\n",
              "       0.        , 0.        , 0.        , 0.        , 0.        ,\n",
              "       0.        , 0.        , 0.        , 0.        , 0.        ,\n",
              "       1.        , 0.        , 0.        , 0.        , 0.        ,\n",
              "       0.        , 0.        , 0.        , 0.        , 0.        ,\n",
              "       0.        , 0.2890505 , 0.19940776, 0.02765242, 0.04608883,\n",
              "       0.94684886, 0.02738481, 0.0511737 , 0.93523303, 0.05732418,\n",
              "       0.67699586, 0.62480647, 0.03591585, 0.04879972, 0.05841456,\n",
              "       0.04926601, 0.10247703, 0.33181223, 0.97180471, 0.15187116,\n",
              "       0.26894142, 0.54487889, 0.        , 0.        , 0.        ,\n",
              "       0.        , 0.        , 0.        , 0.        , 0.        ,\n",
              "       0.        , 0.        , 0.        , 0.        , 0.        ,\n",
              "       0.        , 0.        , 1.        , 0.        , 0.        ,\n",
              "       0.        , 0.        , 0.        , 0.        , 0.        ,\n",
              "       0.        , 0.        , 1.        , 0.        , 0.        ,\n",
              "       0.        , 0.        , 0.        , 0.        , 0.        ,\n",
              "       0.        , 0.        , 0.        , 0.65926039, 0.24232036,\n",
              "       0.32959884, 0.36123682, 0.06660804, 0.29733935, 0.201009  ,\n",
              "       0.11105597, 0.36123682, 0.08706577, 0.18242552, 0.55971365,\n",
              "       0.24048908, 0.37989357, 0.2441611 , 0.98110904, 0.95563817,\n",
              "       0.2042403 , 0.04608883, 0.5       , 0.12238889, 0.        ,\n",
              "       0.        , 0.        , 0.        , 0.        , 0.        ,\n",
              "       0.        , 0.        , 0.        , 0.        , 0.        ,\n",
              "       0.        , 0.        , 0.        , 0.        , 0.        ])"
            ]
          },
          "metadata": {
            "tags": []
          },
          "execution_count": 8
        }
      ]
    },
    {
      "metadata": {
        "id": "87ZxPXkQF82b",
        "colab_type": "code",
        "outputId": "d4395531-68a7-4558-f30d-421a3f3aec35",
        "colab": {
          "base_uri": "https://localhost:8080/",
          "height": 35
        }
      },
      "cell_type": "code",
      "source": [
        "preds.shape"
      ],
      "execution_count": 0,
      "outputs": [
        {
          "output_type": "execute_result",
          "data": {
            "text/plain": [
              "(45, 3, 1999)"
            ]
          },
          "metadata": {
            "tags": []
          },
          "execution_count": 14
        }
      ]
    },
    {
      "metadata": {
        "id": "nTj-f-HTJ7uQ",
        "colab_type": "code",
        "outputId": "01424e69-fd6d-44c7-8161-211bf3dfae77",
        "colab": {
          "base_uri": "https://localhost:8080/",
          "height": 476
        }
      },
      "cell_type": "code",
      "source": [
        "preds[2,2, 1:100]"
      ],
      "execution_count": 0,
      "outputs": [
        {
          "output_type": "execute_result",
          "data": {
            "text/plain": [
              "array([ 1.74937136e-02,  1.52654117e-02,  6.74365312e-02,  6.13621175e-02,\n",
              "        4.70960364e-02,  9.01607145e-03,  1.58650745e-02,  1.30070716e-01,\n",
              "        4.04332466e-02,  2.96830852e-02, -9.39975027e-03,  5.34684397e-02,\n",
              "        1.30865410e-01,  6.56378791e-02,  8.77321362e-02,  7.21537974e-03,\n",
              "        3.22074704e-02,  2.58962139e-02,  8.30399152e-03,  7.11623998e-03,\n",
              "        9.65786159e-01,  7.56594772e-03,  3.47007141e-02, -4.44895960e-03,\n",
              "       -1.04699822e-04,  2.41949931e-02,  8.77524614e-02,  1.33004049e-02,\n",
              "        1.39392288e-02,  9.66556251e-01, -5.04179578e-03,  9.28535964e-03,\n",
              "        2.09852564e-03,  3.76629144e-01,  9.09679383e-02,  1.28239155e-01,\n",
              "        1.58330008e-01,  1.77292302e-01,  1.58161372e-01,  9.45109129e-02,\n",
              "        2.41709590e-01,  2.38120213e-01,  2.72488564e-01,  3.03393215e-01,\n",
              "        2.05817983e-01,  1.29895583e-01,  2.64738530e-01,  1.75369084e-01,\n",
              "        3.98848146e-01,  2.71521658e-01,  2.58469671e-01,  5.75635023e-02,\n",
              "        3.32379460e-01,  1.33201435e-01, -1.96244987e-03,  1.14389099e-01,\n",
              "        1.31623587e-04,  1.56966373e-01,  2.75468193e-02,  3.72201838e-02,\n",
              "        1.54281016e-02,  4.37236391e-02,  3.50713953e-02,  1.14168994e-01,\n",
              "       -1.65089257e-02,  2.03158502e-02,  1.90494787e-02,  3.12480610e-02,\n",
              "        1.64941952e-01,  2.67348997e-02,  2.34612059e-02,  1.56059396e-02,\n",
              "        1.56745873e-03,  2.47176625e-02, -5.93585195e-04,  5.75120735e-04,\n",
              "       -2.75968411e-03,  7.63604999e-01, -1.11850146e-02,  1.40347838e-01,\n",
              "       -1.37952976e-02, -1.00407051e-02,  9.34825689e-02,  1.65409632e-02,\n",
              "        3.12650017e-02, -6.58858847e-03,  1.31424814e-02, -5.65309171e-03,\n",
              "       -5.36862202e-03, -3.71865230e-03,  3.71391177e-01,  7.53503665e-02,\n",
              "        3.29732299e-01,  4.74689335e-01,  8.78390074e-02,  1.51044816e-01,\n",
              "        1.97066948e-01,  2.07465082e-01,  3.86416525e-01], dtype=float32)"
            ]
          },
          "metadata": {
            "tags": []
          },
          "execution_count": 19
        }
      ]
    },
    {
      "metadata": {
        "id": "oHprIiB1LDq2",
        "colab_type": "code",
        "colab": {}
      },
      "cell_type": "code",
      "source": [
        "Dataset\n",
        "You can get training and test dataset from http://www.princeton.edu/~jzthree/datasets/ICML2014/. In the FTP directory, \"cullpdb+profile_6133_filtered.npy.gz\" is a training dataset and \"cb513+profile_split1.npy.gz\" is a test dataset. Download them and use them for your calculation. For description of the files, read \"dataset_readme.txt\" in the directory carefully.\n",
        "\n",
        "The training dataset and test dataset includes 5534 and 514 (correctly 513) sequences respectively. So, if you want to shape it by \"[sequence number] * [sequence] * [features]\" format, write code as follow.\n",
        "\n",
        "1\n",
        "2\n",
        "3\n",
        "4\n",
        "5\n",
        "6\n",
        "7\n",
        "8\n",
        "9\n",
        "10\n",
        "11\n",
        "12\n",
        "13\n",
        "#!/usr/bin/env python3\n",
        "import numpy as np\n",
        "np.set_printoptions(threshold=np.inf,linewidth=np.inf)\n",
        " \n",
        "def main():\n",
        "    nptrain = np.load(\"cullpdb+profile_6133_filtered.npy\")\n",
        "    nptrain = np.reshape(nptrain,(5534,700,57))\n",
        "     \n",
        "    nptest = np.load(\"cb513+profile_split1.npy\")\n",
        "    nptest = np.reshape(nptest,(514,700,57))\n",
        "     \n",
        "if __name__ == '__main__':\n",
        "    main()\n",
        "\n",
        "    \n",
        "    \n",
        "    https://blog.csdn.net/u013841458/rss/list"
      ],
      "execution_count": 0,
      "outputs": []
    }
  ]
}